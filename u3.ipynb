{
 "cells": [
  {
   "cell_type": "code",
   "execution_count": 1,
   "outputs": [],
   "source": [
    "import psycopg2\n",
    "from psycopg2.extras import RealDictCursor\n",
    "\n",
    "\n",
    "def insert(sql,data):\n",
    "    conn = psycopg2.connect(\"dbname=data user=postgres password=root host=172.23.0.2\")\n",
    "    cur = conn.cursor(cursor_factory=RealDictCursor)\n",
    "    cur.executemany(sql, data)\n",
    "    conn.commit()\n",
    "    cur.close()\n",
    "    conn.close()\n",
    "\n",
    "def select(sql):\n",
    "    conn = psycopg2.connect(\"dbname=data user=postgres password=root host=172.23.0.2\")\n",
    "    cur = conn.cursor(cursor_factory=RealDictCursor)\n",
    "    cur.execute(sql)\n",
    "    result = cur.fetchall()\n",
    "    cur.close()\n",
    "    conn.close()\n",
    "    return result"
   ],
   "metadata": {
    "collapsed": false,
    "pycharm": {
     "name": "#%%\n"
    }
   }
  },
  {
   "cell_type": "code",
   "execution_count": 32,
   "outputs": [
    {
     "name": "stdout",
     "output_type": "stream",
     "text": [
      "ok\n"
     ]
    }
   ],
   "source": [
    "hoaxs_list = [['deepstatevirus', 'deepstatevaccine', 'deepstatefauci'],\n",
    "              ['qanon','maga','wwg1wga'],\n",
    "              ['agenda21'],\n",
    "              ['ccpvirus','chinaliedpeopledied'],\n",
    "              ['climatechangehoax', 'globalwarminghoax'],\n",
    "              ['sorosvirus'],\n",
    "              ['5gcoronavirus'],\n",
    "              ['chemtrails'],\n",
    "              ['flatearth'],\n",
    "              ['moonlandinghoax', 'moonhoax'],\n",
    "              ['illuminati'],\n",
    "              ['pizzagateisreal', 'pedogateisreal'],\n",
    "              ['911truth', '911insidejob'],\n",
    "              ['reptilians']\n",
    "              ]\n",
    "if not select('select count(*) from hoaxs')[0]['count']:\n",
    "    print('ok')\n",
    "    data = []\n",
    "    for hoax_id, value in enumerate(hoaxs_list):\n",
    "        data.append([hoax_id, ' '.join(value)])\n",
    "    insert('INSERT INTO hoaxs (id, hoax_name) VALUES (%s, %s)',data)\n"
   ],
   "metadata": {
    "collapsed": false,
    "pycharm": {
     "name": "#%%\n"
    }
   }
  },
  {
   "cell_type": "code",
   "execution_count": 33,
   "outputs": [
    {
     "name": "stdout",
     "output_type": "stream",
     "text": [
      "exec: ['deepstatevirus', 'deepstatevaccine', 'deepstatefauci']\n",
      "exec: ['qanon', 'maga', 'wwg1wga']\n",
      "exec: ['agenda21']\n",
      "exec: ['ccpvirus', 'chinaliedpeopledied']\n",
      "exec: ['climatechangehoax', 'globalwarminghoax']\n",
      "exec: ['sorosvirus']\n",
      "exec: ['5gcoronavirus']\n",
      "exec: ['chemtrails']\n",
      "exec: ['flatearth']\n",
      "exec: ['moonlandinghoax', 'moonhoax']\n",
      "exec: ['illuminati']\n",
      "exec: ['pizzagateisreal', 'pedogateisreal']\n",
      "exec: ['911truth', '911insidejob']\n",
      "exec: ['reptilians']\n"
     ]
    }
   ],
   "source": [
    "if not select('select count(*) from tweet_hoaxs')[0]['count']:\n",
    "    for hoax_id, hoax_name_list in enumerate(hoaxs_list):\n",
    "        print(f'exec: {hoax_name_list}')\n",
    "        hoax_tags_ids = []\n",
    "        for hoax_name in hoax_name_list:\n",
    "            sql = f'select id from hashtags where LOWER(value) like \\'%{hoax_name}%\\''\n",
    "            rows = select(sql)\n",
    "            hoax_tags_ids.extend(map(lambda x: x['id'], rows))\n",
    "        rows = select(f'select DISTINCT tweet_id from tweet_hashtags where hashtag_id in {str(tuple(hoax_tags_ids))}')\n",
    "\n",
    "        data = []\n",
    "        data.extend(map(lambda x: [x['tweet_id'], hoax_id], rows))\n",
    "        insert('INSERT INTO tweet_hoaxs (tweet_id, hoax_id) VALUES (%s, %s)',data)"
   ],
   "metadata": {
    "collapsed": false,
    "pycharm": {
     "name": "#%%\n"
    }
   }
  },
  {
   "cell_type": "code",
   "execution_count": null,
   "outputs": [],
   "source": [],
   "metadata": {
    "collapsed": false,
    "pycharm": {
     "name": "#%%\n"
    }
   }
  }
 ],
 "metadata": {
  "kernelspec": {
   "display_name": "Python 3",
   "language": "python",
   "name": "python3"
  },
  "language_info": {
   "codemirror_mode": {
    "name": "ipython",
    "version": 2
   },
   "file_extension": ".py",
   "mimetype": "text/x-python",
   "name": "python",
   "nbconvert_exporter": "python",
   "pygments_lexer": "ipython2",
   "version": "2.7.6"
  },
  "pycharm": {
   "stem_cell": {
    "cell_type": "raw",
    "source": [
     "\n",
     "\n",
     "\n",
     "create table hoaxs\n",
     "(\n",
     "    id int not null\n",
     "constraint hoaxs_pk\n",
     "primary key,\n",
     "hoax_name varchar(140) not null\n",
     ");\n",
     "\n",
     "create table tweet_hoaxs\n",
     "(\n",
     "    tweet_id varchar(20),\n",
     "    hoax_id  integer\n",
     ");\n",
     "\n",
     "\n",
     "\n"
    ],
    "metadata": {
     "collapsed": false
    }
   }
  }
 },
 "nbformat": 4,
 "nbformat_minor": 0
}