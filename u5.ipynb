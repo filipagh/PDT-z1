{
 "cells": [],
 "metadata": {
  "kernelspec": {
   "display_name": "Python 3",
   "language": "python",
   "name": "python3"
  },
  "language_info": {
   "codemirror_mode": {
    "name": "ipython",
    "version": 2
   },
   "file_extension": ".py",
   "mimetype": "text/x-python",
   "name": "python",
   "nbconvert_exporter": "python",
   "pygments_lexer": "ipython2",
   "version": "2.7.6"
  },
  "pycharm": {
   "stem_cell": {
    "cell_type": "raw",
    "source": [
     "\n",
     "select pre ulohu 5\n",
     "\n",
     "SELECT\n",
     "    x.id as id,\n",
     "    x.name,\n",
     "    x.screen_name,\n",
     "    x.hoax_id,\n",
     "    hoax_name,\n",
     "    x.tweet_count\n",
     "\n",
     "FROM (\n",
     "         SELECT\n",
     "                     ROW_NUMBER() OVER (PARTITION BY v.hoax_id order by v.tweet_count desc ) AS r,\n",
     "                     v.*\n",
     "         FROM ( select a.id, a.name, a.screen_name,  th.hoax_id, count(*) as tweet_count from tweet_hoaxs th join tweets t on t.id = th.tweet_id join accounts a on a.id = t.author_id\n",
     "                where t.compound > 0.5 OR t.compound < -0.5\n",
     "                group by a.id,th.hoax_id\n",
     "                order by tweet_count desc ) v\n",
     "\n",
     "     ) x join hoaxs on x.hoax_id = hoaxs.id\n",
     "WHERE\n",
     "        x.r <= 10;\n",
     "\n",
     "\n",
     "\n",
     "sql k ulohe 6\n",
     "\n",
     "SELECT\n",
     "    x.hashtag_id,\n",
     "    x.hoax_id,\n",
     "    hoax_name,\n",
     "    x.value\n",
     "FROM (\n",
     "         SELECT\n",
     "                     ROW_NUMBER() OVER (PARTITION BY v.hoax_id order by v.value desc ) AS r,\n",
     "                     v.hashtag_id,\n",
     "                     v.hoax_id,\n",
     "                     v.value\n",
     "         FROM ( select  tht.hashtag_id, th.hoax_id as hoax_id, count(*) as value from tweet_hoaxs th join tweets t on t.id = th.tweet_id join tweet_hashtags tht on th.tweet_id = tht.tweet_id\n",
     "                where t.compound > 0.5 OR t.compound < -0.5\n",
     "                group by tht.hashtag_id,th.hoax_id\n",
     "                order by value desc, hashtag_id\n",
     "              ) v\n",
     "     ) x join hoaxs on x.hoax_id = hoaxs.id\n",
     "WHERE\n",
     "        x.r <= 10;\n",
     "\n",
     "\n",
     "\n",
     "\n",
     "\n",
     "\n",
     "\n",
     "\n",
     "\n",
     "\n",
     "\n"
    ],
    "metadata": {
     "collapsed": false
    }
   }
  }
 },
 "nbformat": 4,
 "nbformat_minor": 0
}