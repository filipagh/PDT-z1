{
 "cells": [
  {
   "cell_type": "code",
   "execution_count": 1,
   "outputs": [
    {
     "name": "stderr",
     "output_type": "stream",
     "text": [
      "[nltk_data] Downloading package vader_lexicon to\n",
      "[nltk_data]     /home/fagh/nltk_data...\n",
      "[nltk_data]   Package vader_lexicon is already up-to-date!\n"
     ]
    }
   ],
   "source": [
    "# init vader\n",
    "import nltk\n",
    "\n",
    "nltk.download('vader_lexicon')\n",
    "from nltk.sentiment.vader import SentimentIntensityAnalyzer\n",
    "\n",
    "sid = SentimentIntensityAnalyzer()"
   ],
   "metadata": {
    "collapsed": false,
    "pycharm": {
     "name": "#%%\n"
    }
   }
  },
  {
   "cell_type": "code",
   "execution_count": 2,
   "outputs": [],
   "source": [
    "# init hastags, map to lower\n",
    "\n",
    "tag_list = ['DeepstateVirus', 'DeepStateVaccine', 'DeepStateFauci', 'QAnon', 'Agenda21', 'CCPVirus',\n",
    "            'ClimateChangeHoax', 'GlobalWarmingHoax', 'ChinaLiedPeopleDied', 'SorosVirus', '5GCoronavirus', 'MAGA',\n",
    "            'WWG1WGA', 'Chemtrails', 'flatEarth', 'MoonLandingHoax', 'moonhoax', 'illuminati', 'pizzaGateIsReal',\n",
    "            'PedoGateIsReal', '911truth', '911insidejob', 'reptilians']\n",
    "\n",
    "tag_list_lower = list(map(lambda x: x.lower(), tag_list))"
   ],
   "metadata": {
    "collapsed": false,
    "pycharm": {
     "name": "#%%\n"
    }
   }
  },
  {
   "cell_type": "code",
   "execution_count": 3,
   "outputs": [],
   "source": [
    "# func to exec basic select\n",
    "from psycopg2.extras import RealDictCursor\n",
    "import psycopg2\n",
    "\n",
    "\"\"\" Connect to the PostgreSQL database server \"\"\"\n",
    "conn = None\n",
    "\n",
    "\n",
    "def exec_sql(sql: str):\n",
    "    try:\n",
    "        conn = psycopg2.connect(\"dbname=data user=postgres password=root host=172.23.0.2\")\n",
    "        cur = conn.cursor(cursor_factory=RealDictCursor)\n",
    "\n",
    "        cur.execute(sql)\n",
    "        result = cur.fetchall()\n",
    "        cur.close()\n",
    "        return result\n",
    "    except (Exception, psycopg2.DatabaseError) as error:\n",
    "        print(error)\n",
    "    finally:\n",
    "        if conn is not None:\n",
    "            conn.close()"
   ],
   "metadata": {
    "collapsed": false,
    "pycharm": {
     "name": "#%%\n"
    }
   }
  },
  {
   "cell_type": "code",
   "execution_count": 4,
   "outputs": [],
   "source": [
    "# get all ids of hoax hashtags\n",
    "tag_list_ids = []\n",
    "for hoax in tag_list_lower:\n",
    "    sql = f'select * from hashtags where LOWER(value) like \\'%{hoax}%\\''\n",
    "    rows = exec_sql(sql)\n",
    "    tag_list_ids.extend(map(lambda x: x['id'], rows))\n"
   ],
   "metadata": {
    "collapsed": false,
    "pycharm": {
     "name": "#%%\n"
    }
   }
  },
  {
   "cell_type": "code",
   "execution_count": 5,
   "outputs": [],
   "source": [
    "# get tweet ids which need to be processed with vader\n",
    "\n",
    "sql = f'select DISTINCT tweet_hashtags.tweet_id from  tweet_hashtags inner join tweets t on tweet_hashtags.tweet_id = t.id where tweet_hashtags.hashtag_id in {str(tuple(tag_list_ids))} and t.neg is null'\n",
    "rows = exec_sql(sql)\n",
    "\n",
    "ids_to_process = list(map(lambda x: x['tweet_id'], rows))\n",
    "\n"
   ],
   "metadata": {
    "collapsed": false,
    "pycharm": {
     "name": "#%%\n"
    }
   }
  },
  {
   "cell_type": "code",
   "execution_count": 6,
   "outputs": [],
   "source": [
    "# func to sanitize content\n",
    "import re\n",
    "\n",
    "def filter_content(content):\n",
    "    content = re.sub(r'\\s?[@#]\\w*', '', content)\n",
    "    content = re.sub(r'\\s?https:\\/\\/t\\.co\\/\\w*', '', content)\n",
    "    emoj = re.compile(\"\\s?[\"\n",
    "                      u\"\\U0001F600-\\U0001F64F\"  # emoticons\n",
    "                      u\"\\U0001F300-\\U0001F5FF\"  # symbols & pictographs\n",
    "                      u\"\\U0001F680-\\U0001F6FF\"  # transport & map symbols\n",
    "                      u\"\\U0001F1E0-\\U0001F1FF\"  # flags (iOS)\n",
    "                      u\"\\U00002500-\\U00002BEF\"  # chinese char\n",
    "                      u\"\\U00002702-\\U000027B0\"\n",
    "                      u\"\\U00002702-\\U000027B0\"\n",
    "                      u\"\\U000024C2-\\U0001F251\"\n",
    "                      u\"\\U0001f926-\\U0001f937\"\n",
    "                      u\"\\U00010000-\\U0010ffff\"\n",
    "                      u\"\\u2640-\\u2642\"\n",
    "                      u\"\\u2600-\\u2B55\"\n",
    "                      u\"\\u200d\"\n",
    "                      u\"\\u23cf\"\n",
    "                      u\"\\u23e9\"\n",
    "                      u\"\\u231a\"\n",
    "                      u\"\\ufe0f\"  # dingbats\n",
    "                      u\"\\u3030\"\n",
    "                      \"]+\", re.UNICODE)\n",
    "    content = emoj.sub(r'', content)\n",
    "    return content\n"
   ],
   "metadata": {
    "collapsed": false,
    "pycharm": {
     "name": "#%%\n"
    }
   }
  },
  {
   "cell_type": "code",
   "execution_count": 12,
   "outputs": [
    {
     "name": "stdout",
     "output_type": "stream",
     "text": [
      "danone\n"
     ]
    }
   ],
   "source": [
    "# func to parallel calc and update vader data from tweets content\n",
    "threads = 6\n",
    "from multiprocessing import Pool\n",
    "\n",
    "def update_vader(processing_batch):\n",
    "    conn = psycopg2.connect(\"dbname=data user=postgres password=root host=172.23.0.2\")\n",
    "    cur = conn.cursor(cursor_factory=RealDictCursor)\n",
    "    for processing_id in processing_batch:\n",
    "        sql = f'select content from tweets where id = \\'{processing_id}\\''\n",
    "        cur.execute(sql)\n",
    "        rows = cur.fetchall()\n",
    "\n",
    "        content = filter_content(rows[0]['content'])\n",
    "        vader = sid.polarity_scores(content)\n",
    "        sql = 'UPDATE tweets SET neg = %s, pos = %s, neu = %s, compound = %s WHERE id = %s'\n",
    "        data = [vader[\"neg\"], vader[\"pos\"], vader[\"neu\"], vader[\"compound\"], processing_id]\n",
    "        cur.execute(sql, data)\n",
    "        conn.commit()\n",
    "    conn.close()\n",
    "\n",
    "\n",
    "if ids_to_process:\n",
    "    import numpy\n",
    "    batches = numpy.array_split(ids_to_process, threads)\n",
    "    with Pool(processes=threads) as pool:\n",
    "        for i in pool.imap_unordered(update_vader, batches):\n",
    "            pass\n",
    "print(\"danone\")\n",
    "\n",
    "\n"
   ],
   "metadata": {
    "collapsed": false,
    "pycharm": {
     "name": "#%%\n"
    }
   }
  }
 ],
 "metadata": {
  "kernelspec": {
   "display_name": "Python 3",
   "language": "python",
   "name": "python3"
  },
  "language_info": {
   "codemirror_mode": {
    "name": "ipython",
    "version": 2
   },
   "file_extension": ".py",
   "mimetype": "text/x-python",
   "name": "python",
   "nbconvert_exporter": "python",
   "pygments_lexer": "ipython2",
   "version": "2.7.6"
  },
  "pycharm": {
   "stem_cell": {
    "cell_type": "raw",
    "source": [
     "alter table tweets\n",
     "\tadd neg numeric(6,4);\n",
     "\n",
     "alter table tweets\n",
     "\tadd pos numeric(6,4);\n",
     "\n",
     "alter table tweets\n",
     "\tadd neu numeric(6,4);\n",
     "\n",
     "alter table tweets\n",
     "\tadd compound numeric(6,4);\n",
     "\n",
     "\n",
     "create table hoaxs\n",
     "(\n",
     "\tid int not null\n",
     "\t\tconstraint hoaxs_pk\n",
     "\t\t\tprimary key,\n",
     "\tname varchar(140) not null\n",
     ");\n",
     "\n",
     "\n",
     "\n"
    ],
    "metadata": {
     "collapsed": false
    }
   }
  }
 },
 "nbformat": 4,
 "nbformat_minor": 0
}